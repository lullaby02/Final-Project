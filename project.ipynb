{
  "cells": [
    {
      "cell_type": "markdown",
      "metadata": {
        "id": "view-in-github",
        "colab_type": "text"
      },
      "source": [
        "<a href=\"https://colab.research.google.com/github/lullaby02/Final-Project/blob/main/project.ipynb\" target=\"_parent\"><img src=\"https://colab.research.google.com/assets/colab-badge.svg\" alt=\"Open In Colab\"/></a>"
      ]
    },
    {
      "cell_type": "code",
      "execution_count": null,
      "metadata": {
        "colab": {
          "base_uri": "https://localhost:8080/"
        },
        "id": "XC39SiHsFqX9",
        "outputId": "76eadf2a-b511-4474-d08f-eaec5c99b4af"
      },
      "outputs": [
        {
          "output_type": "stream",
          "name": "stdout",
          "text": [
            "Welcome to Hero/Villain Generator!\n",
            "Enter 'H' to generate a hero or 'V' to generate a villain: h\n",
            "Enter first name: Max\n",
            "Enter last name: Lee\n",
            "Choose a species from the following options:\n",
            "1. Human\n",
            "2. Alien\n",
            "3. Mutant\n",
            "4. Robot\n",
            "5. Animal\n",
            "Enter the number corresponding to your species choice: 3\n",
            "\n",
            "Character Information:\n",
            "Type: Hero\n",
            "First Name: Max\n",
            "Last Name: Lee\n",
            "Species: Mutant\n",
            "Characteristics: Super strength\n",
            "Weaknesses: Kryptonite\n",
            "\n",
            "Do you want to keep this character? (Y/N): y\n",
            "Enter origin story (limit to 250 words): he likes dogs\n",
            "Character saved to 'characters.txt'\n",
            "Do you want to generate another character? (Y/N): n\n",
            "Thank you for using Hero/Villain Generator!\n"
          ]
        }
      ],
      "source": [
        "import random\n",
        "\n",
        "def generate_character():\n",
        "    \"\"\"Generate a hero or villain character.\"\"\"\n",
        "    character_type = input(\"Enter 'H' to generate a hero or 'V' to generate a villain: \").upper()\n",
        "    while character_type not in ['H', 'V']:\n",
        "        print(\"Invalid input. Please enter 'H' for hero or 'V' for villain.\")\n",
        "        character_type = input(\"Enter 'H' to generate a hero or 'V' to generate a villain: \").upper()\n",
        "\n",
        "    first_name = input(\"Enter first name: \")\n",
        "    last_name = input(\"Enter last name: \")\n",
        "    \n",
        "    species_list = [\"Human\", \"Alien\", \"Mutant\", \"Robot\", \"Animal\"]\n",
        "    print(\"Choose a species from the following options:\")\n",
        "    for i, species in enumerate(species_list, 1):\n",
        "        print(f\"{i}. {species}\")\n",
        "    species_choice = input(\"Enter the number corresponding to your species choice: \")\n",
        "    while not species_choice.isdigit() or int(species_choice) < 1 or int(species_choice) > len(species_list):\n",
        "        print(\"Invalid input. Please enter a valid number.\")\n",
        "        species_choice = input(\"Enter the number corresponding to your species choice: \")\n",
        "    species = species_list[int(species_choice) - 1]\n",
        "\n",
        "    characteristics = \"\"\n",
        "    weaknesses = \"\"\n",
        "    if character_type == 'H':  # Generate characteristics and weaknesses for hero                         \n",
        "        characteristics_list = [\"Super strength\", \"Flight\", \"Telepathy\", \"Invisibility\", \"Healing\"]\n",
        "        weaknesses_list = [\"Kryptonite\", \"Emotional trauma\", \"Fire\", \"Technology malfunction\", \"Water\"]\n",
        "        characteristics = random.choice(characteristics_list)\n",
        "        weaknesses = random.choice(weaknesses_list)\n",
        "    else:  # Generate characteristics and weaknesses for villain\n",
        "        characteristics_list = [\"Super intelligence\", \"Mind control\", \"Shapeshifting\", \"Teleportation\", \"Energy manipulation\"]\n",
        "        weaknesses_list = [\"Morality\", \"Hubris\", \"Sunlight\", \"Love\", \"Holy objects\"]\n",
        "        characteristics = random.choice(characteristics_list)\n",
        "        weaknesses = random.choice(weaknesses_list)\n",
        "\n",
        "    character = f\"Type: {'Hero' if character_type == 'H' else 'Villain'}\\n\" \\\n",
        "                f\"First Name: {first_name}\\n\" \\\n",
        "                f\"Last Name: {last_name}\\n\" \\\n",
        "                f\"Species: {species}\\n\" \\\n",
        "                f\"Characteristics: {characteristics}\\n\" \\\n",
        "                f\"Weaknesses: {weaknesses}\\n\"\n",
        "\n",
        "    return character\n",
        "\n",
        "def generate_origin_story(character):\n",
        "    \"\"\"Allow the user to enter an origin story for the character.\"\"\"\n",
        "    origin_story = input(\"Enter origin story (limit to 250 words): \")\n",
        "    while len(origin_story) > 250:\n",
        "        print(\"Origin story exceeds 250 words. Please limit it to 250 words.\")\n",
        "        origin_story = input(\"Enter origin story (limit to 250 words): \")\n",
        "    character += f\"Origin Story: {origin_story}\\n\"\n",
        "    return character\n",
        "\n",
        "def save_character(character):\n",
        "    \"\"\"Save the character to a file.\"\"\"\n",
        "    with open(\"characters.txt\", \"a\") as file:\n",
        "        file.write(character + \"\\n\")\n",
        "\n",
        "def main(): \n",
        "    \"\"\"Main function to generate hero/villain characters.\"\"\"\n",
        "    print(\"Welcome to Hero/Villain Generator!\")\n",
        "    while True:\n",
        "        character = generate_character()\n",
        "        print(\"\\nCharacter Information:\")\n",
        "        print(character)\n",
        "        keep_character = input(\"Do you want to keep this character? (Y/N): \").upper()\n",
        "        while keep_character not in ['Y', 'N']:\n",
        "            print(\"Invalid input. Please enter 'Y' to keep the character or 'N' to try again.\")\n",
        "            keep_character = input(\"Do you want to keep this character? (Y/N): \").upper()\n",
        "\n",
        "        if keep_character == 'Y':\n",
        "            character = generate_origin_story(character)\n",
        "            save_character(character)\n",
        "            print(\"Character saved to 'characters.txt'\")\n",
        "        else:\n",
        "            print(\"Character not saved.\")\n",
        "        \n",
        "        another_character = input(\"Do you want to generate another character? (Y/N): \").upper()\n",
        "        while another_character not in ['Y', 'N']:\n",
        "            print(\"Invalid input. Please enter 'Y' to generate another character or 'N' to quit.\")\n",
        "            another_character = input(\"Do you want to generate another character? (Y/N): \").upper()\n",
        "        \n",
        "        if another_character == 'N':\n",
        "            print(\"Thank you for using Hero/Villain Generator!\")\n",
        "            break\n",
        "\n",
        "if __name__ == \"__main__\":\n",
        "    main()\n",
        "\n"
      ]
    }
  ],
  "metadata": {
    "colab": {
      "provenance": [],
      "authorship_tag": "ABX9TyOvdROZ6t7vkXkz9nzE/290",
      "include_colab_link": true
    },
    "kernelspec": {
      "display_name": "Python 3",
      "name": "python3"
    },
    "language_info": {
      "name": "python"
    }
  },
  "nbformat": 4,
  "nbformat_minor": 0
}